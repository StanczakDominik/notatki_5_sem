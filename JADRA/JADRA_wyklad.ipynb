{
 "cells": [
  {
   "cell_type": "markdown",
   "metadata": {
    "collapsed": true
   },
   "source": [
    "# [Strona przedmiotu](http://www.if.pw.edu.pl/~gos/students/wdfj)\n",
    "\n",
    "Na ostatnim wykładzie będzie teścik.\n",
    "\n",
    "Po drodze pojawią się ciekawsze wykłady z ciekawymi ludźmi, dodatkowo punktowane. Pierwsy z nich - w I tygodniu listopada.\n",
    "\n",
    "# [Wykład 1](http://www.if.pw.edu.pl/~gos/students/wdfj/WYK/wyklad1-2015.pdf)\n",
    "## Historia cząstek\n",
    "\n",
    "Mało kwantowa więc nieciekawa. Demokryt, złota folia, promienny uśmiech pani Skłodowskiej, Becquerel w deszczowej pogodzie.\n",
    "\n",
    "Zastosowania oczywiście w medycynie i w energetyce jądrowej. O czym wszyscy wiedzą. Oraz w fuzji jądrowej, o czym nie wszyscy wiedzą ale [poczytać wszakże można](https://en.wikipedia.org/wiki/ITER).\n",
    "\n"
   ]
  }
 ],
 "metadata": {
  "kernelspec": {
   "display_name": "Python 3",
   "language": "python",
   "name": "python3"
  },
  "language_info": {
   "codemirror_mode": {
    "name": "ipython",
    "version": 3
   },
   "file_extension": ".py",
   "mimetype": "text/x-python",
   "name": "python",
   "nbconvert_exporter": "python",
   "pygments_lexer": "ipython3",
   "version": "3.4.3"
  }
 },
 "nbformat": 4,
 "nbformat_minor": 0
}
