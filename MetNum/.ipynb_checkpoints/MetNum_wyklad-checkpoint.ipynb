{
 "cells": [
  {
   "cell_type": "markdown",
   "metadata": {},
   "source": [
    "# Metody Numeryczne (UW)\n",
    "## Krzysztof Wohlfeld\n",
    "### Notatki - Dominik Stańczak\n",
    "\n",
    "Zajęcia 1h, 12.10, 23.11, 14.12 wolne ze względu na robienie SCIENCE przez prowadzącego.\n",
    "\n",
    "> To jest łatwe.\n",
    "\n",
    "Literatura:\n",
    "* Dahlquist, Bjorck. Tam jest umlałt. Metody numeryczne.\n",
    "* Tao Pang, jego wszystkie słynne książki\n",
    "* [Ten, jakoby trudniejszy niż materiał wykładu, czyli fajny, wykład z UJ](http://th-www.uj.edu.pl/zfs/gora) - link chyba coś nie taki?\n",
    "\n",
    "# Wykład 1\n",
    "### Dokładność obliczeń.\n",
    "Mamy dwie liczby, $X$ oraz $Y$, które reprezentujemy w komputerze jako wartość liczbową (float) zostawiając jakiś błąd zaokrąglenia."
   ]
  },
  {
   "cell_type": "code",
   "execution_count": 4,
   "metadata": {
    "collapsed": false
   },
   "outputs": [
    {
     "data": {
      "image/png": "[encoded data removed]",
      "text/latex": [
       "$$\\left ( \\epsilon_{x} + x, \\quad \\epsilon_{y} + y\\right )$$"
      ],
      "text/plain": [
       "(εₓ + x, ε_y + y)"
      ]
     },
     "execution_count": 4,
     "metadata": {},
     "output_type": "execute_result"
    }
   ],
   "source": [
    "from sympy import *\n",
    "init_printing()\n",
    "x, e_x,y, e_y = symbols('x epsilon_x y epsilon_y')\n",
    "X=x + e_x\n",
    "Y=y + e_y\n",
    "X, Y"
   ]
  },
  {
   "cell_type": "markdown",
   "metadata": {},
   "source": [
    "Przy sumowaniu nie ma problemu, błędy pozostają małego rzędu:"
   ]
  },
  {
   "cell_type": "code",
   "execution_count": 5,
   "metadata": {
    "collapsed": false
   },
   "outputs": [
    {
     "data": {
      "image/png": "[encoded data removed]",
      "text/latex": [
       "$$\\epsilon_{x} + \\epsilon_{y} + x + y$$"
      ],
      "text/plain": [
       "εₓ + ε_y + x + y"
      ]
     },
     "execution_count": 5,
     "metadata": {},
     "output_type": "execute_result"
    }
   ],
   "source": [
    "X+Y"
   ]
  },
  {
   "cell_type": "markdown",
   "metadata": {},
   "source": [
    "Przy mnożeniu jednak:"
   ]
  },
  {
   "cell_type": "code",
   "execution_count": 14,
   "metadata": {
    "collapsed": false
   },
   "outputs": [
    {
     "data": {
      "image/png": "[encoded data removed]",
      "text/latex": [
       "$$\\epsilon_{x} \\epsilon_{y} + \\epsilon_{x} y + \\epsilon_{y} x + x y$$"
      ],
      "text/plain": [
       "εₓ⋅ε_y + εₓ⋅y + ε_y⋅x + x⋅y"
      ]
     },
     "execution_count": 14,
     "metadata": {},
     "output_type": "execute_result"
    }
   ],
   "source": [
    "multiplication=(X*Y).expand()\n",
    "multiplication"
   ]
  },
  {
   "cell_type": "markdown",
   "metadata": {},
   "source": [
    "Dla $X >> Y$, przykładowo $X=10000$, $Y=1$, błędy rzędu jednej tysięcznej:"
   ]
  },
  {
   "cell_type": "code",
   "execution_count": 17,
   "metadata": {
    "collapsed": false
   },
   "outputs": [
    {
     "data": {
      "image/png": "[encoded data removed]",
      "text/latex": [
       "$$10020.01$$"
      ],
      "text/plain": [
       "10020.0100000000"
      ]
     },
     "execution_count": 17,
     "metadata": {},
     "output_type": "execute_result"
    }
   ],
   "source": [
    "multiplication.subs({e_x: 10, x: 10000, y: 1, e_y : 0.001})"
   ]
  },
  {
   "cell_type": "markdown",
   "metadata": {},
   "source": [
    "Przy dzieleniu jest jeszcze gorzej, bo rozwijając w szereg Taylora względem $x$ otrzymujemy człon $\\frac{x}{y^2}\\epsilon_y$. Więc ten pierwszy będzie, powiedzmy \"rzędu duże do trzeciej\" i człon $\\epsilon_y$ nie jest w stanie tego zniwelować. Więc to się może bardzo mocno skopać."
   ]
  },
  {
   "cell_type": "markdown",
   "metadata": {},
   "source": [
    "### Interpolacja\n",
    "Dopasowywanie do punktów np. pomiarowych krzywych. Można dopasować łamaną ([\"piecewise linear\"](https://en.wikipedia.org/wiki/Piecewise_linear_function)), do N punktów można dokładnie dopasować wielomian N stopnia (parabolę do trzech)... dalsza interpolacja wymaga liczenia czegoś pod metodę najmniejszych kwadratów."
   ]
  }
 ],
 "metadata": {
  "kernelspec": {
   "display_name": "Python 3",
   "language": "python",
   "name": "python3"
  },
  "language_info": {
   "codemirror_mode": {
    "name": "ipython",
    "version": 3
   },
   "file_extension": ".py",
   "mimetype": "text/x-python",
   "name": "python",
   "nbconvert_exporter": "python",
   "pygments_lexer": "ipython3",
   "version": "3.4.3"
  }
 },
 "nbformat": 4,
 "nbformat_minor": 0
}
