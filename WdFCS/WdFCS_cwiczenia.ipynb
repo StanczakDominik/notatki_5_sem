{
 "cells": [
  {
   "cell_type": "markdown",
   "metadata": {},
   "source": [
    "# Wstęp do Fizyki Ciała Stałego\n",
    "## Ćwiczenia, grupa M2, dr Wioletta Ślubowska\n",
    "### Notatki - Dominik Stańczak\n",
    "\n",
    "[Strona prowadzącej](http://www.if.pw.edu.pl/~slubowska)\n",
    "\n",
    "[Strona git prowadzącego](http://www.if.pw.edu.pl/~topie/?str=2390)\n",
    "\n",
    "Konsultacje wtorek 11-12 14 GF, czwartek 13-14 gdzieś na GM\n",
    "Dwa projekty po 20 pkt, do 3 nieusprawiedliwionych nieobecności. Projekty do zrobienia - około 3.11, 14.01 terminy oddania, po dwa tygodnie każdy."
   ]
  },
  {
   "cell_type": "markdown",
   "metadata": {},
   "source": [
    "# Ćwiczenia 1\n",
    "\n",
    "Dużo o tym, co robią zakłady ciałkowe na PW.\n",
    "\n",
    "* [DTA - Differential Thermal Analysis](https://en.wikipedia.org/wiki/Differential_thermal_analysis). Polega na wygrzaniu badanego materiału oraz próbki odniesienia (np. aluminium - coś ze znamym profilem cieplnym), i rejestrowaniu różnic temperatury tych dwóch próbek.\n",
    " > In today’s market most manufacturers no longer make true DTA systems\n",
    "* [DSC - Differential Scanning Calorimetry](https://en.wikipedia.org/wiki/Differential_scanning_calorimetry). Podobne, ale zamiast temperatury mierzy energię (strumień ciepła), jaką potrzeba żeby utrzymać dwie próbki w tej samej temperaturze.\n",
    "\n",
    "* Przejście szkliste w szkłach - jest wtedy kiedy szkło miękknie. Pobiera przy tym energię.\n",
    "* Krystalizacja - szkło oddaje przy tym nadmiar energii (z tej fazy chaotycznej schodzi do stałego poziomu...)\n",
    "* Topnienie - klasyczna przemiana fazowa jak w zwykłych nieszklistych materiałach, oczywiście pobiera energię."
   ]
  }
 ],
 "metadata": {
  "kernelspec": {
   "display_name": "Python 3",
   "language": "python",
   "name": "python3"
  },
  "language_info": {
   "codemirror_mode": {
    "name": "ipython",
    "version": 3
   },
   "file_extension": ".py",
   "mimetype": "text/x-python",
   "name": "python",
   "nbconvert_exporter": "python",
   "pygments_lexer": "ipython3",
   "version": "3.4.3"
  }
 },
 "nbformat": 4,
 "nbformat_minor": 0
}
