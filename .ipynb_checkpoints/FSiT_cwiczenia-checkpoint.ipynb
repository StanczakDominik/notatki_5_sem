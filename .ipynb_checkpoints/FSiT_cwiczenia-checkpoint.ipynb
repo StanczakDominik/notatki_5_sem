{
 "cells": [
  {
   "cell_type": "markdown",
   "metadata": {
    "collapsed": true
   },
   "source": [
    "# FSiT ćwiczenia\n",
    "## Grupa M2\n",
    "### Notatki - Dominik Stańczak\n"
   ]
  },
  {
   "cell_type": "markdown",
   "metadata": {},
   "source": [
    "## Ćwiczenie 1\n",
    "Wiemy że ciepło przemiany tej przy stałej objętośći $C_v$ jest stałe. Chcemy znaleźć wyrażenie na entropię ciała wyrażone przez objętość i temperaturę."
   ]
  },
  {
   "cell_type": "code",
   "execution_count": null,
   "metadata": {
    "collapsed": true
   },
   "outputs": [],
   "source": [
    "from sympy import *\n",
    "Q, T, n, "
   ]
  }
 ],
 "metadata": {
  "kernelspec": {
   "display_name": "Python 3",
   "language": "python",
   "name": "python3"
  },
  "language_info": {
   "codemirror_mode": {
    "name": "ipython",
    "version": 3
   },
   "file_extension": ".py",
   "mimetype": "text/x-python",
   "name": "python",
   "nbconvert_exporter": "python",
   "pygments_lexer": "ipython3",
   "version": "3.4.3"
  }
 },
 "nbformat": 4,
 "nbformat_minor": 0
}
