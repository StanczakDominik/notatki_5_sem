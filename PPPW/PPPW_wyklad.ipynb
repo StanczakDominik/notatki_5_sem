{
 "cells": [
  {
   "cell_type": "markdown",
   "metadata": {},
   "source": [
    "# PPP - znaczy no LabView\n",
    "## Marcin Bieda\n",
    "### Notatki - Dominik Stańczak\n",
    "\n",
    "# Wykład 1, ten z długo niedziałającym rzutnikiem\n",
    "\n",
    "Więc jest sobie LabView. Jest wolne, nieporęczne, drogie i ma wolny pod fajne plazmowe rzeczy przepływ danych, i generalnie [są](https://en.wikipedia.org/wiki/C_%28programming_language%29) [chyba](https://en.wikipedia.org/wiki/C%2B%2B) [lepsze](https://en.wikipedia.org/wiki/Python_%28programming_language%29) [języki](https://en.wikipedia.org/wiki/Klingon_language). Ale można nim robić krzesła które o ile nie gadają to przynajmniej słuchają (patrz: plakat w lab.)\n",
    "\n",
    "Polecane książki:\n",
    "* pod egzamin CLAD - NI Core 1, 2 pod kucie (tzn. można zignorować)\n",
    "* W. Tłaczała, Środowisko LabView cośtam cośtam"
   ]
  }
 ],
 "metadata": {
  "kernelspec": {
   "display_name": "Python 3",
   "language": "python",
   "name": "python3"
  },
  "language_info": {
   "codemirror_mode": {
    "name": "ipython",
    "version": 3
   },
   "file_extension": ".py",
   "mimetype": "text/x-python",
   "name": "python",
   "nbconvert_exporter": "python",
   "pygments_lexer": "ipython3",
   "version": "3.4.3"
  }
 },
 "nbformat": 4,
 "nbformat_minor": 0
}
