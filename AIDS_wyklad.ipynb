{
 "cells": [
  {
   "cell_type": "markdown",
   "metadata": {},
   "source": [
    "# Algorytmy i Struktury Danych (MiNI)\n",
    "## Wykład\n",
    "### Notatki - Dominik Stańczak\n",
    "\n",
    "[Strona prowadzącego](http://www.mini.pw.edu.pl/~kotowski/)\n",
    "[Wykłady](http://www.mini.pw.edu.pl/~kotowski/AiSD/Wyklady.htm), login: `aisd`, hasło: `aisdminipwedupl`\n",
    "\n",
    "Konsultacje: Czwartki, 12-13, p.523 MiNI\n",
    "\n",
    "Literatura do obczajenia:\n",
    "* Sedgewick, Algorytmy w C++\n",
    "* Wirth, Algorytmy..."
   ]
  },
  {
   "cell_type": "markdown",
   "metadata": {},
   "source": [
    "# [Wykład 1](http://www.mini.pw.edu.pl/~kotowski/AiSD/pdf/ASD_MetAnalAlg.pdf) 8.10.15\n",
    "> Nie przejmuj się złożością... wystarczy poczekać kilka lat. - P.K.\n",
    "\n",
    "Złożoność obliczeniowa algorytmów. Case for study: algorytm wyszukiwania maksymalnego podciągu z ciągu liczb.\n",
    "\n",
    "*IFy* mają wyrażenie w rozdziale złożoności obliczeniowej na pesymistyczną i optymistyczną. Pesymistyczna wtedy gdy wszystkie ruszą, optymistyczna wtedy gdy żaden.\n",
    "\n",
    "### O-notacja\n",
    "\n",
    "$f(n)$ co najwyżej rzędu $g(n) \\iff O(g(n))$, gdy\n",
    "$$(\\exists C > 0 ) (\\exists n > n_0) \\forall n > n_0 \\space f(n) \\leq C g(n)$$\n",
    "$f(n)$ co najmniej rzędu $g(n) \\iff \\Omega(g(n))$, gdy\n",
    "$$(\\exists C > 0 ) (\\exists n > n_0) \\forall n > n_0 \\space f(n) \\geq C g(n)$$\n",
    "$f(n)$ dokładnie rzędu $g(n) \\iff \\Theta(g(n))$, gdy\n",
    "$$(\\exists C > 0 ) (\\exists n > n_0) \\forall n > n_0 \\space f(n) = C g(n)$$\n",
    "\n",
    "\n",
    "```\n",
    "for i<n\n",
    "    for j<i\n",
    "```\n",
    "Taka zagnieżdżona pętla wciąż jest $O(n^2)$, bo to się sumuje do $n(n-1)/2$ (suma ciągu arytmetycznego).\n",
    "\n",
    "Co do algorytmu podciągu: można wyrzucić trzecią pętlę po $k$ i od razu w drugiej pętli liczyć sumę.\n",
    "\n",
    "### Divide and conquer\n",
    "Dzielenie problemu na mniejsze części (wygodne do paralelizacji?). Problemy pojawiają się na brzegach obszarów (w problemie podciągu: ciągi będące po części po obu stronach).\n",
    "\n",
    "### Złożoność $O(n \\log(n))$\n",
    "$$T(n) = T(n/2) + n = ... = O(n \\log(n))$$\n",
    "Często taka złożoność właśnie przy DAC.\n",
    "\n",
    "### Złożoność średnia - obliczana jako suma ważona z prawdopodobieństwami wystąpień poszczególnych przypadków. Stochastyczna,\n",
    "$$\\bar{T}(n) = \\sum_{|d| = n} {p(d) t(d)}$$\n",
    "\n",
    "### [Złożoność zamortyzowana](https://en.wikipedia.org/wiki/Amortized_analysis)\n",
    "Często koszt pewnych operacji zmienia się pod wpływem stosowania innych. Złożoność zamortyzowana daje pesymistyczny przypadek i wyznacza koszt pojedynczej jako $T(n)/n$ (średnią ze \"zmierzonego\" czasu).\n",
    "\n",
    "Skończyliśmy na slajdzie 13."
   ]
  },
  {
   "cell_type": "markdown",
   "metadata": {
    "collapsed": true
   },
   "source": [
    "# Wykład 2 15.10.15\n"
   ]
  },
  {
   "cell_type": "markdown",
   "metadata": {},
   "source": [
    "# Wykład 3 22.10.15"
   ]
  },
  {
   "cell_type": "code",
   "execution_count": null,
   "metadata": {
    "collapsed": true
   },
   "outputs": [],
   "source": []
  }
 ],
 "metadata": {
  "kernelspec": {
   "display_name": "Python 3",
   "language": "python",
   "name": "python3"
  },
  "language_info": {
   "codemirror_mode": {
    "name": "ipython",
    "version": 3
   },
   "file_extension": ".py",
   "mimetype": "text/x-python",
   "name": "python",
   "nbconvert_exporter": "python",
   "pygments_lexer": "ipython3",
   "version": "3.4.3"
  }
 },
 "nbformat": 4,
 "nbformat_minor": 0
}
